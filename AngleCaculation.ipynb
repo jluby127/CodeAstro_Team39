{
 "cells": [
  {
   "cell_type": "code",
   "execution_count": 8,
   "metadata": {},
   "outputs": [],
   "source": [
    "import numpy as np\n",
    "import matplotlib.pyplot as pt\n",
    "import matplotlib as mpl\n",
    "import pandas as pd\n"
   ]
  },
  {
   "cell_type": "code",
   "execution_count": 7,
   "metadata": {},
   "outputs": [
    {
     "ename": "NameError",
     "evalue": "name 'EarthPlanetDist' is not defined",
     "output_type": "error",
     "traceback": [
      "\u001b[0;31m---------------------------------------------------------------------------\u001b[0m",
      "\u001b[0;31mNameError\u001b[0m                                 Traceback (most recent call last)",
      "\u001b[1;32m/mnt/c/Users/Eulri/codeastro/project/CodeAstro_Team39/AngleCaculation.ipynb Cell 2'\u001b[0m in \u001b[0;36m<cell line: 15>\u001b[0;34m()\u001b[0m\n\u001b[1;32m     <a href='vscode-notebook-cell://wsl%2Bubuntu/mnt/c/Users/Eulri/codeastro/project/CodeAstro_Team39/AngleCaculation.ipynb#ch0000001vscode-remote?line=11'>12</a>\u001b[0m     theta \u001b[39m=\u001b[39m np\u001b[39m.\u001b[39marccos(costop\u001b[39m/\u001b[39mcosbot)\n\u001b[1;32m     <a href='vscode-notebook-cell://wsl%2Bubuntu/mnt/c/Users/Eulri/codeastro/project/CodeAstro_Team39/AngleCaculation.ipynb#ch0000001vscode-remote?line=12'>13</a>\u001b[0m     \u001b[39mreturn\u001b[39;00m theta \n\u001b[0;32m---> <a href='vscode-notebook-cell://wsl%2Bubuntu/mnt/c/Users/Eulri/codeastro/project/CodeAstro_Team39/AngleCaculation.ipynb#ch0000001vscode-remote?line=14'>15</a>\u001b[0m BetaAngles\u001b[39m=\u001b[39m CosCalc(EarthPlanetDist)\n\u001b[1;32m     <a href='vscode-notebook-cell://wsl%2Bubuntu/mnt/c/Users/Eulri/codeastro/project/CodeAstro_Team39/AngleCaculation.ipynb#ch0000001vscode-remote?line=15'>16</a>\u001b[0m \u001b[39mprint\u001b[39m(BetaAngles)\n",
      "\u001b[0;31mNameError\u001b[0m: name 'EarthPlanetDist' is not defined"
     ]
    }
   ],
   "source": [
    "#angle calculation, ep:earth planet distance, sp: sun planet distance, au: earth sun distancce, \n",
    "#RA: calibrated right ascension angle from earth, theta: angle with the sun\n",
    "\n",
    "\n",
    "PlanetDist= np.array([0.39, 0.72, 1, 1.52, 5.20, 9.58, 19.20, 30.05])\n",
    "   #Define cosine calculation function \n",
    "\n",
    "\n",
    "def CosCalc(ep):\n",
    "    costop = (np.sqrt(ep)-1-np.sqrt(PlanetDist))\n",
    "    cosbot = 2* PlanetDist\n",
    "    theta = np.arccos(costop/cosbot)\n",
    "    return theta \n",
    "\n",
    "BetaAngles= CosCalc(EarthPlanetDist)\n",
    "print(BetaAngles)\n"
   ]
  }
 ],
 "metadata": {
  "kernelspec": {
   "display_name": "Python 3.10.4 ('codeastro')",
   "language": "python",
   "name": "python3"
  },
  "language_info": {
   "codemirror_mode": {
    "name": "ipython",
    "version": 3
   },
   "file_extension": ".py",
   "mimetype": "text/x-python",
   "name": "python",
   "nbconvert_exporter": "python",
   "pygments_lexer": "ipython3",
   "version": "3.10.4"
  },
  "orig_nbformat": 4,
  "vscode": {
   "interpreter": {
    "hash": "f727d668a5b4e1ded97760968f10ab8383475dd6d7df0c9d50efaf8d66705e46"
   }
  }
 },
 "nbformat": 4,
 "nbformat_minor": 2
}
